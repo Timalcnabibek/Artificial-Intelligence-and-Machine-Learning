{
  "nbformat": 4,
  "nbformat_minor": 0,
  "metadata": {
    "colab": {
      "provenance": []
    },
    "kernelspec": {
      "name": "python3",
      "display_name": "Python 3"
    },
    "language_info": {
      "name": "python"
    }
  },
  "cells": [
    {
      "cell_type": "markdown",
      "source": [
        "# Exercise 3.2"
      ],
      "metadata": {
        "id": "LOu74p9t7TZG"
      }
    },
    {
      "cell_type": "markdown",
      "source": [
        "3.2 Task - 1: Implementation of MCP Neurons:\n",
        "1. Design a MCP Neuron for ”AND” Boolean Functions and ”OR” Boolean Functions with two\n",
        "inputs:\n",
        "Hint:\n",
        "\n",
        "• Aggregate all the inputs.\n",
        "\n",
        "• Handcraft a Threshold values for ”AND” and ”OR” Function.\n",
        "\n",
        "• Implement a if else statement as stated above.\n",
        "You may use code base provided below or write your own code from scratch:\n"
      ],
      "metadata": {
        "id": "k5d1Zj2g9KPE"
      }
    },
    {
      "cell_type": "code",
      "execution_count": 39,
      "metadata": {
        "id": "2kGjgrZV7G1l"
      },
      "outputs": [],
      "source": [
        "def MCP_Neurons_AND(X1, X2, T):\n",
        "    \"\"\"\n",
        "    This function implements basic AND operations with MCP Neuron for two inputs.\n",
        "\n",
        "    Arguments:\n",
        "    Inputs:\n",
        "    X1 (1D array): An array of binary values.\n",
        "    X2 (1D array): An array of binary values.\n",
        "\n",
        "    Outputs:\n",
        "    state_neuron (1D list): A state of neuron (1 or 0) for the particular inputs.\n",
        "    \"\"\"\n",
        "    assert len(X1) == len(X2)\n",
        "\n",
        "    # Create an empty list to store the state of the neuron\n",
        "    state_neuron = []\n",
        "\n",
        "    # Iterate through the binary input arrays\n",
        "    for x1, x2 in zip(X1, X2):\n",
        "        # Perform element-wise addition and check against the threshold\n",
        "        if (x1 + x2) >= T:\n",
        "            state_neuron.append(1)  # Active state\n",
        "        else:\n",
        "            state_neuron.append(0)  # Inactive state\n",
        "\n",
        "    return state_neuron\n"
      ]
    },
    {
      "cell_type": "markdown",
      "source": [
        "Sample Usage for ”AND” Function."
      ],
      "metadata": {
        "id": "WjP0tzWhAdKn"
      }
    },
    {
      "cell_type": "code",
      "source": [
        "# Example usage for MCP_Neurons_AND function\n",
        "X1 = [0, 0, 1, 1]\n",
        "X2 = [0, 1, 0, 1]\n",
        "T = 2 # Threshold value\n",
        "# Call the MCP_Neurons_AND function\n",
        "result = MCP_Neurons_AND(X1, X2, T)\n",
        "# Print the result\n",
        "print(f\"Output of AND gate for inputs {X1} and {X2} with threshold {T}: {result}\")"
      ],
      "metadata": {
        "id": "noWru8eiAgG6",
        "colab": {
          "base_uri": "https://localhost:8080/"
        },
        "outputId": "db06b514-b54c-4e30-b638-0d8a8ce0686f"
      },
      "execution_count": 40,
      "outputs": [
        {
          "output_type": "stream",
          "name": "stdout",
          "text": [
            "Output of AND gate for inputs [0, 0, 1, 1] and [0, 1, 0, 1] with threshold 2: [0, 0, 0, 1]\n"
          ]
        }
      ]
    },
    {
      "cell_type": "markdown",
      "source": [
        "For ”OR” Operations."
      ],
      "metadata": {
        "id": "CjrjC95KAlgn"
      }
    },
    {
      "cell_type": "code",
      "source": [
        "def MCP_Neurons_OR(X1, X2, T):\n",
        "    \"\"\"\n",
        "    This function implements basic OR operations with MCP Neuron for two inputs.\n",
        "\n",
        "    Arguments:\n",
        "    Inputs:\n",
        "    X1 (1D array): An array of binary values.\n",
        "    X2 (1D array): An array of binary values.\n",
        "\n",
        "    Outputs:\n",
        "    state_neuron (1D list): The state of the neuron (1 or 0) for the particular inputs.\n",
        "    \"\"\"\n",
        "    assert len(X1) == len(X2)\n",
        "\n",
        "    # Create an empty list to store the state of the neuron\n",
        "    state_neuron = []\n",
        "\n",
        "    # Iterate through the binary input arrays\n",
        "    for x1, x2 in zip(X1, X2):\n",
        "        # Perform element-wise addition and check against the threshold\n",
        "        if (x1 + x2) >= T:\n",
        "            state_neuron.append(1)  # Active state\n",
        "        else:\n",
        "            state_neuron.append(0)  # Inactive state\n",
        "\n",
        "    return state_neuron\n"
      ],
      "metadata": {
        "id": "3HaJ0izuAlH9"
      },
      "execution_count": 41,
      "outputs": []
    },
    {
      "cell_type": "markdown",
      "source": [
        "Sample Usage for ”OR” Function."
      ],
      "metadata": {
        "id": "UDsf6O_QAtr2"
      }
    },
    {
      "cell_type": "code",
      "source": [
        "# Example usage for MCP_Neurons_OR function\n",
        "X1 = [0, 0, 1, 1]\n",
        "X2 = [0, 1, 0, 1]\n",
        "T = 1 # Threshold value for OR gate\n",
        "# Call the MCP_Neurons_OR function\n",
        "result_or = MCP_Neurons_OR(X1, X2, T)\n",
        "# Print the result\n",
        "print(f\"Output of OR gate for inputs {X1} and {X2} with threshold {T}: {result_or}\")"
      ],
      "metadata": {
        "id": "mUQjLflmAvZc",
        "colab": {
          "base_uri": "https://localhost:8080/"
        },
        "outputId": "db259ce9-21e4-465f-fa4f-fe4bf39625d0"
      },
      "execution_count": 42,
      "outputs": [
        {
          "output_type": "stream",
          "name": "stdout",
          "text": [
            "Output of OR gate for inputs [0, 0, 1, 1] and [0, 1, 0, 1] with threshold 1: [0, 1, 1, 1]\n"
          ]
        }
      ]
    },
    {
      "cell_type": "markdown",
      "source": [
        "## 3.2.1 Answer the Following Question:"
      ],
      "metadata": {
        "id": "Hm1ZhTs1Azvx"
      }
    },
    {
      "cell_type": "markdown",
      "source": [
        "• Question - 1: List out all the limitations of MCP - Neurons.\n",
        "\n",
        "answer: Here’s a list of limitations of MCP Neurons:\n",
        "\n",
        "\n",
        "*  Binary output only.\n",
        "*   Inability to learn\n",
        "*  Inability to learn.\n",
        "*   Limited representation power (cannot solve non-linear problems like XOR).\n",
        "*  Lack of dynamics (cannot handle temporal or sequential data).\n",
        "*   No error tolerance for noisy or imperfect data.\n",
        "*   Single layer restriction.\n",
        "*  Fixed activation function (step function, no diversity).\n",
        "\n",
        "\n",
        "\n",
        "\n",
        "\n",
        "\n",
        "\n",
        "\n",
        "\n",
        "\n",
        "\n",
        "\n",
        "\n",
        "\n",
        "\n",
        "\n"
      ],
      "metadata": {
        "id": "vbeiK5q3A3_a"
      }
    },
    {
      "cell_type": "markdown",
      "source": [
        "Question - 2: Think if you can develop a logic to solve for XOR function using MCP Neuron.\n",
        "\n",
        "{Can you devise a if else rules.}\n",
        "\n",
        "Answer:\n",
        "To solve the XOR function using MCP Neurons, here's what I would do: I’d start by taking two binary inputs, `X1` and `X2`. First, I’d compute the AND gate output, let’s call it `A`, by checking if both inputs are `1`. At the same time, I’d calculate the OR gate output, `B`, which checks if at least one input is `1`. Then, I’d negate the AND output to get `NOT A`, which we’ll call `C`. Finally, I’d combine the outputs of `B` and `C` using an AND gate to produce the XOR output. By layering these logical operations, I’d be able to replicate the XOR function, even though a single MCP Neuron can't handle non-linear functions like XOR. It’s like building the answer step by step!\n"
      ],
      "metadata": {
        "id": "UuHFfCGsA7BD"
      }
    },
    {
      "cell_type": "markdown",
      "source": [
        "loading the Dataset"
      ],
      "metadata": {
        "id": "Wk9CZkulBIlw"
      }
    },
    {
      "cell_type": "code",
      "source": [
        "import pandas as pd\n",
        "import numpy as np\n",
        "# Load the dataset\n",
        "df_0_1 = pd.read_csv(\"/content/drive/MyDrive/Artificial Intelligence and Machine Learning/workshop 3/mnist_0_and_1.csv\") # Add the correct file path if necessary\n",
        "# Extract features and labels\n",
        "X = df_0_1.drop(columns=[\"label\"]).values # 784 pixels\n",
        "y = df_0_1[\"label\"].values # Labels (0 or 1)\n",
        "# Check the shape of the features and labels\n",
        "print(\"Feature matrix shape:\", X.shape)\n",
        "print(\"Label vector shape:\", y.shape)"
      ],
      "metadata": {
        "id": "mPNPnEMOA06B",
        "colab": {
          "base_uri": "https://localhost:8080/"
        },
        "outputId": "47f17ddd-8286-4de7-b6ca-d200dfce2519"
      },
      "execution_count": 43,
      "outputs": [
        {
          "output_type": "stream",
          "name": "stdout",
          "text": [
            "Feature matrix shape: (12665, 784)\n",
            "Label vector shape: (12665,)\n"
          ]
        }
      ]
    },
    {
      "cell_type": "markdown",
      "source": [
        "1. Question - 1: What does the shape of X represent?\n",
        "\n",
        "answer: The shape of X is (12665, 784). This indicates that the feature matrix X consists of:\n",
        "\n",
        "12665 samples (rows): Each row corresponds to an individual data sample (e.g., an image).\n",
        "\n",
        "784 features (columns): Each column corresponds to a pixel value in the flattened 28x28 grayscale image (28x28 = 784 pixels).\n",
        "\n",
        "2. Question - 2: What does the shape of Y represent?\n",
        "\n",
        "\n",
        "Answer: The shape of y is (12665,). This indicates:\n",
        "\n",
        "12665 elements in total: Each element corresponds to the label or target value for a specific sample in the dataset.\n",
        "\n",
        "It's a 1D array (vector): Each label represents the class (e.g., 0 or 1) of the corresponding sample from the feature matrix X."
      ],
      "metadata": {
        "id": "MQsaylJuBMsX"
      }
    },
    {
      "cell_type": "markdown",
      "source": [
        "Visualize the Dataset:"
      ],
      "metadata": {
        "id": "RzyH2lb5BKVY"
      }
    },
    {
      "cell_type": "code",
      "source": [
        "import matplotlib.pyplot as plt\n",
        "\n",
        "# Separate images for label 0 and label 1\n",
        "images_0 = X[y == 0]  # Get all images with label 0\n",
        "images_1 = X[y == 1]  # Get all images with label 1\n",
        "\n",
        "fig, axes = plt.subplots(2, 5, figsize=(10, 5))\n",
        "\n",
        "# Check if the arrays have the required amount of data\n",
        "if len(images_0) < 5 or len(images_1) < 5:\n",
        "    print(\"Error: Not enough images in images_0 or images_1 to plot 5 images.\")\n",
        "else:\n",
        "    for i in range(5):\n",
        "        # Plot digit 0\n",
        "        axes[0, i].imshow(images_0[i].reshape(28, 28), cmap=\"gray\")\n",
        "        axes[0, i].set_title(\"Label: 0\")\n",
        "        axes[0, i].axis(\"off\")\n",
        "\n",
        "        # Plot digit 1\n",
        "        axes[1, i].imshow(images_1[i].reshape(28, 28), cmap=\"gray\")\n",
        "        axes[1, i].set_title(\"Label: 1\")\n",
        "        axes[1, i].axis(\"off\")\n",
        "\n",
        "    plt.suptitle(\"First 5 Images of 0 and 1 from MNIST Subset\")\n",
        "    plt.show()\n"
      ],
      "metadata": {
        "id": "GX4L1F1dBPeZ",
        "colab": {
          "base_uri": "https://localhost:8080/",
          "height": 451
        },
        "outputId": "200296fb-dbb5-4649-de73-bd90a8b95f1f"
      },
      "execution_count": 44,
      "outputs": [
        {
          "output_type": "display_data",
          "data": {
            "text/plain": [
              "<Figure size 1000x500 with 10 Axes>"
            ],
            "image/png": "[encoded data removed]"
          },
          "metadata": {}
        }
      ]
    },
    {
      "cell_type": "markdown",
      "source": [
        "3. Initialize Weights and Bias:"
      ],
      "metadata": {
        "id": "otXjO6SWBVMp"
      }
    },
    {
      "cell_type": "code",
      "source": [
        "# Initialize weights and bias\n",
        "weights = np.zeros(X.shape[1]) # 784 weights (one for each pixel)\n",
        "bias = 0\n",
        "learning_rate = 0.1\n",
        "epochs = 100"
      ],
      "metadata": {
        "id": "9-WdCw6CBXNT"
      },
      "execution_count": 45,
      "outputs": []
    },
    {
      "cell_type": "markdown",
      "source": [
        "Answer the Following Question:\n",
        "\n",
        "Question - 3: What does the weights array represent in this context?\n",
        "\n",
        "Answer: The weights array represents the model's parameters, with each element corresponding to the importance of a specific input feature (e.g., a pixel in an image). These weights determine how much influence each feature has on the model's predictions.\n",
        "\n",
        "Question - 4: Why are we initializing the weights to zero? What effect could this\n",
        "have on the training process?\n",
        "\n",
        "Answer:Initializing the weights to zero provides a simple starting point, where all features are treated equally. However, this can lead to a symmetry problem in complex models like neural networks, slowing down learning since all nodes may update in the same way."
      ],
      "metadata": {
        "id": "wO1OdsiuBZ8j"
      }
    },
    {
      "cell_type": "markdown",
      "source": [
        "4. Implement a Decision Function or Activation Function:"
      ],
      "metadata": {
        "id": "xWl0DwheBcMS"
      }
    },
    {
      "cell_type": "code",
      "source": [
        "import numpy as np\n",
        "\n",
        "def decision_function(X, weights, bias):\n",
        "    \"\"\"\n",
        "    Compute the predicted labels for the input data.\n",
        "    Parameters:\n",
        "    - X: Features (input data) as a numpy array of shape (n_samples, n_features)\n",
        "    - weights: Updated weights after training\n",
        "    - bias: Updated bias after training\n",
        "    Returns:\n",
        "    - y_pred_all: The predicted labels for the input data\n",
        "    \"\"\"\n",
        "    # Compute linear combination of inputs and weights\n",
        "    predictions = np.dot(X, weights) + bias\n",
        "\n",
        "    # Activation function (Step function)\n",
        "    y_pred_all = np.where(predictions >= 0, 1, 0)\n",
        "\n",
        "    return y_pred_all\n"
      ],
      "metadata": {
        "id": "BZUpQmvDBeVw"
      },
      "execution_count": 46,
      "outputs": []
    },
    {
      "cell_type": "markdown",
      "source": [
        "5. Implement the Perceptron Learning Algorithm:"
      ],
      "metadata": {
        "id": "2d65aV_oBgU8"
      }
    },
    {
      "cell_type": "code",
      "source": [
        "import numpy as np\n",
        "\n",
        "def train_perceptron(X, y, weights, bias, learning_rate=0.1, epochs=100):\n",
        "\n",
        "    n_samples = X.shape[0]\n",
        "\n",
        "    for epoch in range(epochs):\n",
        "        # Initialize variables to track performance\n",
        "        correct_predictions = 0\n",
        "\n",
        "        for i in range(n_samples):\n",
        "            # Compute the perceptron output\n",
        "            output = np.dot(X[i], weights) + bias\n",
        "\n",
        "            # Use step function as the activation function\n",
        "            prediction = 1 if output >= 0 else 0\n",
        "\n",
        "            # Check if the prediction is correct\n",
        "            if prediction == y[i]:\n",
        "                correct_predictions += 1\n",
        "            else:\n",
        "                # Update weights and bias for misclassified samples\n",
        "                error = y[i] - prediction\n",
        "                weights += learning_rate * error * X[i]\n",
        "                bias += learning_rate * error\n",
        "\n",
        "        # Print progress at each epoch\n",
        "        accuracy = correct_predictions / n_samples * 100\n",
        "        print(f\"Epoch {epoch + 1}/{epochs} - Accuracy: {accuracy:.2f}%\")\n",
        "\n",
        "    return weights, bias, accuracy\n"
      ],
      "metadata": {
        "id": "wMfhlLHwBiUe"
      },
      "execution_count": 54,
      "outputs": []
    },
    {
      "cell_type": "markdown",
      "source": [
        "Answer the Following Question:\n",
        "\n",
        "\n",
        "Question - 5: What is the purpose of the output = np.dot(X[i], weights) + bias line?\n",
        "\n",
        "Answer: The line output = np.dot(X[i], weights) + bias computes the perceptron's decision boundary. It calculates the weighted sum of the input features X[i] with the weights, and then adds the bias to shift this boundary.\n",
        "\n",
        "Question - 6: What happens when the prediction is wrong? How are the weights and bias updated?\n",
        "\n",
        "Answer: When the prediction is wrong, the weights and bias are updated to minimize the error.\n",
        "\n",
        "Question - 7:Why is the final accuracy important, and what do you expect it to be?\n",
        "\n",
        "Answer: The final accuracy measures how well the perceptron has learned to classify the input data. It is crucial because it indicates the model's performance on the training data. For a linearly separable dataset, the accuracy is expected to reach 100%, as the perceptron can perfectly classify such data after sufficient training."
      ],
      "metadata": {
        "id": "hZqc0ociBk7e"
      }
    },
    {
      "cell_type": "markdown",
      "source": [
        "Answer the Following Question:\n",
        "\n",
        " Question - 8:What does misclassified idx store, and how is it used in this code?\n",
        "\n",
        " Answer: misclassified_idx typically stores the indices of data samples that were incorrectly classified during the perceptron training process. In the code, it could be used to identify these specific samples, allowing for analysis or visualization\n",
        "\n",
        " Question - 9: How do you interpret the result if the output is ”All images were\n",
        "correctly classified!”?\n",
        "\n",
        "Answer: f the output is \"All images were correctly classified!\" it means that the model's predictions for the entire dataset match the true labels perfectly. This indicates the perceptron has successfully learned the decision boundary for the given task, assuming the data is linearly separable."
      ],
      "metadata": {
        "id": "N5OdMFfkBvDm"
      }
    },
    {
      "cell_type": "code",
      "source": [
        "# After training the model with the perceptron_learning_algorithm\n",
        "weights, bias, accuracy = train_perceptron(X, y, weights, bias)\n",
        "# Evaluate the model using the new function\n",
        "print(\"The Final Accuracy is: \", accuracy)"
      ],
      "metadata": {
        "colab": {
          "base_uri": "https://localhost:8080/"
        },
        "id": "n_bi30dMRz_9",
        "outputId": "dd6901ad-a83c-4c34-d7df-cdbc143d8b2b"
      },
      "execution_count": 48,
      "outputs": [
        {
          "output_type": "stream",
          "name": "stdout",
          "text": [
            "Epoch 1/100 - Accuracy: 99.67%\n",
            "Epoch 2/100 - Accuracy: 99.82%\n",
            "Epoch 3/100 - Accuracy: 99.87%\n",
            "Epoch 4/100 - Accuracy: 99.87%\n",
            "Epoch 5/100 - Accuracy: 99.90%\n",
            "Epoch 6/100 - Accuracy: 99.93%\n",
            "Epoch 7/100 - Accuracy: 99.98%\n",
            "Epoch 8/100 - Accuracy: 99.95%\n",
            "Epoch 9/100 - Accuracy: 99.89%\n",
            "Epoch 10/100 - Accuracy: 99.92%\n",
            "Epoch 11/100 - Accuracy: 99.95%\n",
            "Epoch 12/100 - Accuracy: 99.98%\n",
            "Epoch 13/100 - Accuracy: 100.00%\n",
            "Epoch 14/100 - Accuracy: 100.00%\n",
            "Epoch 15/100 - Accuracy: 100.00%\n",
            "Epoch 16/100 - Accuracy: 100.00%\n",
            "Epoch 17/100 - Accuracy: 100.00%\n",
            "Epoch 18/100 - Accuracy: 100.00%\n",
            "Epoch 19/100 - Accuracy: 100.00%\n",
            "Epoch 20/100 - Accuracy: 100.00%\n",
            "Epoch 21/100 - Accuracy: 100.00%\n",
            "Epoch 22/100 - Accuracy: 100.00%\n",
            "Epoch 23/100 - Accuracy: 100.00%\n",
            "Epoch 24/100 - Accuracy: 100.00%\n",
            "Epoch 25/100 - Accuracy: 100.00%\n",
            "Epoch 26/100 - Accuracy: 100.00%\n",
            "Epoch 27/100 - Accuracy: 100.00%\n",
            "Epoch 28/100 - Accuracy: 100.00%\n",
            "Epoch 29/100 - Accuracy: 100.00%\n",
            "Epoch 30/100 - Accuracy: 100.00%\n",
            "Epoch 31/100 - Accuracy: 100.00%\n",
            "Epoch 32/100 - Accuracy: 100.00%\n",
            "Epoch 33/100 - Accuracy: 100.00%\n",
            "Epoch 34/100 - Accuracy: 100.00%\n",
            "Epoch 35/100 - Accuracy: 100.00%\n",
            "Epoch 36/100 - Accuracy: 100.00%\n",
            "Epoch 37/100 - Accuracy: 100.00%\n",
            "Epoch 38/100 - Accuracy: 100.00%\n",
            "Epoch 39/100 - Accuracy: 100.00%\n",
            "Epoch 40/100 - Accuracy: 100.00%\n",
            "Epoch 41/100 - Accuracy: 100.00%\n",
            "Epoch 42/100 - Accuracy: 100.00%\n",
            "Epoch 43/100 - Accuracy: 100.00%\n",
            "Epoch 44/100 - Accuracy: 100.00%\n",
            "Epoch 45/100 - Accuracy: 100.00%\n",
            "Epoch 46/100 - Accuracy: 100.00%\n",
            "Epoch 47/100 - Accuracy: 100.00%\n",
            "Epoch 48/100 - Accuracy: 100.00%\n",
            "Epoch 49/100 - Accuracy: 100.00%\n",
            "Epoch 50/100 - Accuracy: 100.00%\n",
            "Epoch 51/100 - Accuracy: 100.00%\n",
            "Epoch 52/100 - Accuracy: 100.00%\n",
            "Epoch 53/100 - Accuracy: 100.00%\n",
            "Epoch 54/100 - Accuracy: 100.00%\n",
            "Epoch 55/100 - Accuracy: 100.00%\n",
            "Epoch 56/100 - Accuracy: 100.00%\n",
            "Epoch 57/100 - Accuracy: 100.00%\n",
            "Epoch 58/100 - Accuracy: 100.00%\n",
            "Epoch 59/100 - Accuracy: 100.00%\n",
            "Epoch 60/100 - Accuracy: 100.00%\n",
            "Epoch 61/100 - Accuracy: 100.00%\n",
            "Epoch 62/100 - Accuracy: 100.00%\n",
            "Epoch 63/100 - Accuracy: 100.00%\n",
            "Epoch 64/100 - Accuracy: 100.00%\n",
            "Epoch 65/100 - Accuracy: 100.00%\n",
            "Epoch 66/100 - Accuracy: 100.00%\n",
            "Epoch 67/100 - Accuracy: 100.00%\n",
            "Epoch 68/100 - Accuracy: 100.00%\n",
            "Epoch 69/100 - Accuracy: 100.00%\n",
            "Epoch 70/100 - Accuracy: 100.00%\n",
            "Epoch 71/100 - Accuracy: 100.00%\n",
            "Epoch 72/100 - Accuracy: 100.00%\n",
            "Epoch 73/100 - Accuracy: 100.00%\n",
            "Epoch 74/100 - Accuracy: 100.00%\n",
            "Epoch 75/100 - Accuracy: 100.00%\n",
            "Epoch 76/100 - Accuracy: 100.00%\n",
            "Epoch 77/100 - Accuracy: 100.00%\n",
            "Epoch 78/100 - Accuracy: 100.00%\n",
            "Epoch 79/100 - Accuracy: 100.00%\n",
            "Epoch 80/100 - Accuracy: 100.00%\n",
            "Epoch 81/100 - Accuracy: 100.00%\n",
            "Epoch 82/100 - Accuracy: 100.00%\n",
            "Epoch 83/100 - Accuracy: 100.00%\n",
            "Epoch 84/100 - Accuracy: 100.00%\n",
            "Epoch 85/100 - Accuracy: 100.00%\n",
            "Epoch 86/100 - Accuracy: 100.00%\n",
            "Epoch 87/100 - Accuracy: 100.00%\n",
            "Epoch 88/100 - Accuracy: 100.00%\n",
            "Epoch 89/100 - Accuracy: 100.00%\n",
            "Epoch 90/100 - Accuracy: 100.00%\n",
            "Epoch 91/100 - Accuracy: 100.00%\n",
            "Epoch 92/100 - Accuracy: 100.00%\n",
            "Epoch 93/100 - Accuracy: 100.00%\n",
            "Epoch 94/100 - Accuracy: 100.00%\n",
            "Epoch 95/100 - Accuracy: 100.00%\n",
            "Epoch 96/100 - Accuracy: 100.00%\n",
            "Epoch 97/100 - Accuracy: 100.00%\n",
            "Epoch 98/100 - Accuracy: 100.00%\n",
            "Epoch 99/100 - Accuracy: 100.00%\n",
            "Epoch 100/100 - Accuracy: 100.00%\n",
            "The Final Accuracy is:  100.0\n"
          ]
        }
      ]
    },
    {
      "cell_type": "markdown",
      "source": [
        "Visualizing the Misclassified Image:"
      ],
      "metadata": {
        "id": "6bfgWDrdSK3T"
      }
    },
    {
      "cell_type": "code",
      "source": [
        "# Get predictions for all data points\n",
        "predictions = np.dot(X, weights) + bias\n",
        "y_pred = np.where(predictions >= 0, 1, 0)\n",
        "# Calculate final accuracy\n",
        "final_accuracy = np.mean(y_pred == y)\n",
        "print(f\"Final Accuracy: {final_accuracy:.4f}\")\n",
        "# Step 5: Visualize Misclassified Images\n",
        "misclassified_idx = np.where(y_pred != y)[0]\n",
        "if len(misclassified_idx) > 0:\n",
        "  fig, axes = plt.subplots(2, 5, figsize=(10, 5))\n",
        "  for ax, idx in zip(axes.flat, misclassified_idx[:10]): # Show 10 misclassified images\n",
        "    ax.imshow(X[idx].reshape(28, 28), cmap=\"gray\")\n",
        "    ax.set_title(f\"Pred: {y_pred[idx]}, True: {y[idx]}\")\n",
        "    ax.axis(\"off\")\n",
        "  plt.suptitle(\"Misclassified Images\")\n",
        "  plt.show()\n",
        "else:\n",
        "  print(\"All images were correctly classified!\")"
      ],
      "metadata": {
        "colab": {
          "base_uri": "https://localhost:8080/"
        },
        "id": "e8sIl29JSIgj",
        "outputId": "5e2f9a20-7aab-479d-af7b-fb9af321f539"
      },
      "execution_count": 49,
      "outputs": [
        {
          "output_type": "stream",
          "name": "stdout",
          "text": [
            "Final Accuracy: 1.0000\n",
            "All images were correctly classified!\n"
          ]
        }
      ]
    },
    {
      "cell_type": "markdown",
      "source": [
        "# 4.4 Task 3: Perceptron Algorithm for 3 vs 5 Classification."
      ],
      "metadata": {
        "id": "7H7w-vJkB01J"
      }
    },
    {
      "cell_type": "markdown",
      "source": [
        "1. Objective:\n",
        "In this exercise, you will implement a Perceptron learning algorithm for binary classification using the\n",
        "MNIST dataset. Specifically, you will classify the digits 3 and 5. After completing the Perceptron\n",
        "algorithm, you will evaluate the model’s performance and visualize misclassified images.\n",
        "Dataset: mnist_3_and_5.csv\n",
        "\n",
        "2. To - Do:\n",
        "\n",
        " Implement each Step as we implemented above.\n",
        "\n",
        " Visualize the final misclassified images and Provide your conclusion."
      ],
      "metadata": {
        "id": "e0c7DjM8B5bC"
      }
    },
    {
      "cell_type": "code",
      "source": [
        "import numpy as np\n",
        "import pandas as pd\n",
        "import matplotlib.pyplot as plt"
      ],
      "metadata": {
        "id": "ycQqSrxTBn5c"
      },
      "execution_count": 50,
      "outputs": []
    },
    {
      "cell_type": "code",
      "source": [
        "# Load MNIST dataset containing only 3s and 5s\n",
        "data = pd.read_csv(\"/content/drive/MyDrive/Artificial Intelligence and Machine Learning/workshop 3/mnist_3_and_5.csv\")  # Make sure to provide the correct file path\n",
        "data.shape"
      ],
      "metadata": {
        "colab": {
          "base_uri": "https://localhost:8080/"
        },
        "id": "crjFRPieSv8X",
        "outputId": "b4138508-39af-4d81-b78a-6ff9780cd04c"
      },
      "execution_count": 51,
      "outputs": [
        {
          "output_type": "execute_result",
          "data": {
            "text/plain": [
              "(2741, 785)"
            ]
          },
          "metadata": {},
          "execution_count": 51
        }
      ]
    },
    {
      "cell_type": "code",
      "source": [
        "import numpy as np\n",
        "import matplotlib.pyplot as plt\n",
        "\n",
        "# Separate features and labels\n",
        "X = data.drop(columns=[\"label\"]).values  # Features (flattened 28x28 images)\n",
        "y = data[\"label\"].values  # Labels (3 or 5)\n",
        "\n",
        "# Initialize weights and bias\n",
        "weights = np.zeros(X.shape[1])  # One weight for each pixel\n",
        "bias = 0\n",
        "learning_rate = 0.1\n",
        "epochs = 100\n",
        "\n",
        "# Define activation function (Step Function)\n",
        "def decision_function(X, weights, bias):\n",
        "    predictions = np.dot(X, weights) + bias\n",
        "    return np.where(predictions >= 0, 5, 3)  # Predicts 5 if >= 0, otherwise 3\n",
        "\n",
        "# Train the perceptron\n",
        "def train_perceptron(X, y, weights, bias, learning_rate, epochs):\n",
        "    n_samples = X.shape[0]\n",
        "    for epoch in range(epochs):\n",
        "        correct_predictions = 0\n",
        "        for i in range(n_samples):\n",
        "            # Compute prediction\n",
        "            output = np.dot(X[i], weights) + bias\n",
        "            prediction = 5 if output >= 0 else 3\n",
        "\n",
        "            # Check if prediction is correct\n",
        "            if prediction == y[i]:\n",
        "                correct_predictions += 1\n",
        "            else:\n",
        "                # Update weights and bias for misclassified samples\n",
        "                error = 1 if y[i] == 5 else -1  # 5 leads to positive error, 3 to negative\n",
        "                weights += learning_rate * error * X[i]\n",
        "                bias += learning_rate * error\n",
        "\n",
        "        accuracy = correct_predictions / n_samples * 100\n",
        "        print(f\"Epoch {epoch + 1}/{epochs} - Accuracy: {accuracy:.2f}%\")\n",
        "    return weights, bias\n",
        "\n",
        "# Train the model\n",
        "weights, bias = train_perceptron(X, y, weights, bias, learning_rate, epochs)\n",
        "\n",
        "# Evaluate the model\n",
        "y_pred = decision_function(X, weights, bias)\n",
        "accuracy = np.mean(y_pred == y) * 100\n",
        "print(f\"Final Accuracy on Training Data: {accuracy:.2f}%\")\n",
        "\n",
        "# Identify misclassified indices\n",
        "misclassified_idx = np.where(y_pred != y)[0]\n",
        "\n",
        "# Visualize misclassified images\n",
        "if len(misclassified_idx) > 0:\n",
        "    print(f\"Number of Misclassified Images: {len(misclassified_idx)}\")\n",
        "    fig, axes = plt.subplots(2, 5, figsize=(15, 6))  # Display in a 2x5 grid\n",
        "    for i, ax in enumerate(axes.flat):\n",
        "        if i >= len(misclassified_idx):  # Limit to available misclassified images\n",
        "            break\n",
        "        idx = misclassified_idx[i]\n",
        "        ax.imshow(X[idx].reshape(28, 28), cmap=\"gray\")\n",
        "        ax.set_title(f\"True: {y[idx]}, Pred: {y_pred[idx]}\")\n",
        "        ax.axis(\"off\")\n",
        "    plt.suptitle(\"Misclassified Images\")\n",
        "    plt.tight_layout()\n",
        "    plt.show()\n",
        "else:\n",
        "    print(\"All images were correctly classified!\")\n"
      ],
      "metadata": {
        "colab": {
          "base_uri": "https://localhost:8080/",
          "height": 1000
        },
        "id": "uGYjlr3cS75r",
        "outputId": "8179893c-984d-4df9-b3a5-eae2f90e15af"
      },
      "execution_count": 57,
      "outputs": [
        {
          "output_type": "stream",
          "name": "stdout",
          "text": [
            "Epoch 1/100 - Accuracy: 91.57%\n",
            "Epoch 2/100 - Accuracy: 93.72%\n",
            "Epoch 3/100 - Accuracy: 94.16%\n",
            "Epoch 4/100 - Accuracy: 94.75%\n",
            "Epoch 5/100 - Accuracy: 94.89%\n",
            "Epoch 6/100 - Accuracy: 95.04%\n",
            "Epoch 7/100 - Accuracy: 95.99%\n",
            "Epoch 8/100 - Accuracy: 95.59%\n",
            "Epoch 9/100 - Accuracy: 95.40%\n",
            "Epoch 10/100 - Accuracy: 95.66%\n",
            "Epoch 11/100 - Accuracy: 95.99%\n",
            "Epoch 12/100 - Accuracy: 95.80%\n",
            "Epoch 13/100 - Accuracy: 96.57%\n",
            "Epoch 14/100 - Accuracy: 96.02%\n",
            "Epoch 15/100 - Accuracy: 96.35%\n",
            "Epoch 16/100 - Accuracy: 96.57%\n",
            "Epoch 17/100 - Accuracy: 96.06%\n",
            "Epoch 18/100 - Accuracy: 96.24%\n",
            "Epoch 19/100 - Accuracy: 96.10%\n",
            "Epoch 20/100 - Accuracy: 96.61%\n",
            "Epoch 21/100 - Accuracy: 97.01%\n",
            "Epoch 22/100 - Accuracy: 96.90%\n",
            "Epoch 23/100 - Accuracy: 97.30%\n",
            "Epoch 24/100 - Accuracy: 96.83%\n",
            "Epoch 25/100 - Accuracy: 96.50%\n",
            "Epoch 26/100 - Accuracy: 97.15%\n",
            "Epoch 27/100 - Accuracy: 97.34%\n",
            "Epoch 28/100 - Accuracy: 96.94%\n",
            "Epoch 29/100 - Accuracy: 97.15%\n",
            "Epoch 30/100 - Accuracy: 97.26%\n",
            "Epoch 31/100 - Accuracy: 96.68%\n",
            "Epoch 32/100 - Accuracy: 97.15%\n",
            "Epoch 33/100 - Accuracy: 96.94%\n",
            "Epoch 34/100 - Accuracy: 97.41%\n",
            "Epoch 35/100 - Accuracy: 97.41%\n",
            "Epoch 36/100 - Accuracy: 96.86%\n",
            "Epoch 37/100 - Accuracy: 97.34%\n",
            "Epoch 38/100 - Accuracy: 97.04%\n",
            "Epoch 39/100 - Accuracy: 97.77%\n",
            "Epoch 40/100 - Accuracy: 97.19%\n",
            "Epoch 41/100 - Accuracy: 97.59%\n",
            "Epoch 42/100 - Accuracy: 97.56%\n",
            "Epoch 43/100 - Accuracy: 97.30%\n",
            "Epoch 44/100 - Accuracy: 97.52%\n",
            "Epoch 45/100 - Accuracy: 97.48%\n",
            "Epoch 46/100 - Accuracy: 97.74%\n",
            "Epoch 47/100 - Accuracy: 97.23%\n",
            "Epoch 48/100 - Accuracy: 97.37%\n",
            "Epoch 49/100 - Accuracy: 97.08%\n",
            "Epoch 50/100 - Accuracy: 97.88%\n",
            "Epoch 51/100 - Accuracy: 97.63%\n",
            "Epoch 52/100 - Accuracy: 97.63%\n",
            "Epoch 53/100 - Accuracy: 97.81%\n",
            "Epoch 54/100 - Accuracy: 97.52%\n",
            "Epoch 55/100 - Accuracy: 97.41%\n",
            "Epoch 56/100 - Accuracy: 97.74%\n",
            "Epoch 57/100 - Accuracy: 97.34%\n",
            "Epoch 58/100 - Accuracy: 97.96%\n",
            "Epoch 59/100 - Accuracy: 97.63%\n",
            "Epoch 60/100 - Accuracy: 97.59%\n",
            "Epoch 61/100 - Accuracy: 97.52%\n",
            "Epoch 62/100 - Accuracy: 97.70%\n",
            "Epoch 63/100 - Accuracy: 97.56%\n",
            "Epoch 64/100 - Accuracy: 97.67%\n",
            "Epoch 65/100 - Accuracy: 97.96%\n",
            "Epoch 66/100 - Accuracy: 97.96%\n",
            "Epoch 67/100 - Accuracy: 97.96%\n",
            "Epoch 68/100 - Accuracy: 97.77%\n",
            "Epoch 69/100 - Accuracy: 98.07%\n",
            "Epoch 70/100 - Accuracy: 97.92%\n",
            "Epoch 71/100 - Accuracy: 98.10%\n",
            "Epoch 72/100 - Accuracy: 98.54%\n",
            "Epoch 73/100 - Accuracy: 97.56%\n",
            "Epoch 74/100 - Accuracy: 98.39%\n",
            "Epoch 75/100 - Accuracy: 98.36%\n",
            "Epoch 76/100 - Accuracy: 98.10%\n",
            "Epoch 77/100 - Accuracy: 98.25%\n",
            "Epoch 78/100 - Accuracy: 98.29%\n",
            "Epoch 79/100 - Accuracy: 98.29%\n",
            "Epoch 80/100 - Accuracy: 97.92%\n",
            "Epoch 81/100 - Accuracy: 97.92%\n",
            "Epoch 82/100 - Accuracy: 98.36%\n",
            "Epoch 83/100 - Accuracy: 98.36%\n",
            "Epoch 84/100 - Accuracy: 98.21%\n",
            "Epoch 85/100 - Accuracy: 98.65%\n",
            "Epoch 86/100 - Accuracy: 97.96%\n",
            "Epoch 87/100 - Accuracy: 98.25%\n",
            "Epoch 88/100 - Accuracy: 98.54%\n",
            "Epoch 89/100 - Accuracy: 98.25%\n",
            "Epoch 90/100 - Accuracy: 98.43%\n",
            "Epoch 91/100 - Accuracy: 98.25%\n",
            "Epoch 92/100 - Accuracy: 98.47%\n",
            "Epoch 93/100 - Accuracy: 98.54%\n",
            "Epoch 94/100 - Accuracy: 98.43%\n",
            "Epoch 95/100 - Accuracy: 98.50%\n",
            "Epoch 96/100 - Accuracy: 98.47%\n",
            "Epoch 97/100 - Accuracy: 98.80%\n",
            "Epoch 98/100 - Accuracy: 98.94%\n",
            "Epoch 99/100 - Accuracy: 98.47%\n",
            "Epoch 100/100 - Accuracy: 98.58%\n",
            "Final Accuracy on Training Data: 98.69%\n",
            "Number of Misclassified Images: 36\n"
          ]
        },
        {
          "output_type": "display_data",
          "data": {
            "text/plain": [
              "<Figure size 1500x600 with 10 Axes>"
            ],
            "image/png": "[encoded data removed]"
          },
          "metadata": {}
        }
      ]
    }
  ]
}